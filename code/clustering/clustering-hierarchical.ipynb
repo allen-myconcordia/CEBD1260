{
 "cells": [
  {
   "cell_type": "markdown",
   "metadata": {},
   "source": [
    "# Week 4 Deliverable"
   ]
  },
  {
   "cell_type": "code",
   "execution_count": 48,
   "metadata": {},
   "outputs": [],
   "source": [
    "%matplotlib inline\n",
    "\n",
    "import pandas as pd\n",
    "import numpy as np\n",
    "import matplotlib.pyplot as plt\n",
    "import seaborn as sns\n",
    "\n",
    "from sklearn.metrics.pairwise import euclidean_distances\n",
    "from sklearn.preprocessing import StandardScaler\n",
    "\n",
    "import scipy\n",
    "import scipy.cluster.hierarchy as sch\n",
    "import collections\n",
    "\n",
    "sns.set_style('whitegrid')"
   ]
  },
  {
   "cell_type": "markdown",
   "metadata": {},
   "source": [
    "# Problem definition"
   ]
  },
  {
   "cell_type": "markdown",
   "metadata": {},
   "source": [
    "Cluster players by overall scored according to 'shot_power', 'heading_accuracy', etc.\n"
   ]
  },
  {
   "cell_type": "markdown",
   "metadata": {},
   "source": [
    "# Load the data"
   ]
  },
  {
   "cell_type": "code",
   "execution_count": 49,
   "metadata": {},
   "outputs": [
    {
     "name": "stdout",
     "output_type": "stream",
     "text": [
      "Index(['ID', 'name', 'full_name', 'club', 'club_logo', 'special', 'age',\n",
      "       'league', 'birth_date', 'height_cm',\n",
      "       ...\n",
      "       'prefers_cb', 'prefers_lb', 'prefers_lwb', 'prefers_ls', 'prefers_lf',\n",
      "       'prefers_lam', 'prefers_lcm', 'prefers_ldm', 'prefers_lcb',\n",
      "       'prefers_gk'],\n",
      "      dtype='object', length=185)\n"
     ]
    },
    {
     "data": {
      "text/html": [
       "<div>\n",
       "<style scoped>\n",
       "    .dataframe tbody tr th:only-of-type {\n",
       "        vertical-align: middle;\n",
       "    }\n",
       "\n",
       "    .dataframe tbody tr th {\n",
       "        vertical-align: top;\n",
       "    }\n",
       "\n",
       "    .dataframe thead th {\n",
       "        text-align: right;\n",
       "    }\n",
       "</style>\n",
       "<table border=\"1\" class=\"dataframe\">\n",
       "  <thead>\n",
       "    <tr style=\"text-align: right;\">\n",
       "      <th></th>\n",
       "      <th>ID</th>\n",
       "      <th>name</th>\n",
       "      <th>full_name</th>\n",
       "      <th>club</th>\n",
       "      <th>club_logo</th>\n",
       "      <th>special</th>\n",
       "      <th>age</th>\n",
       "      <th>league</th>\n",
       "      <th>birth_date</th>\n",
       "      <th>height_cm</th>\n",
       "      <th>...</th>\n",
       "      <th>prefers_cb</th>\n",
       "      <th>prefers_lb</th>\n",
       "      <th>prefers_lwb</th>\n",
       "      <th>prefers_ls</th>\n",
       "      <th>prefers_lf</th>\n",
       "      <th>prefers_lam</th>\n",
       "      <th>prefers_lcm</th>\n",
       "      <th>prefers_ldm</th>\n",
       "      <th>prefers_lcb</th>\n",
       "      <th>prefers_gk</th>\n",
       "    </tr>\n",
       "  </thead>\n",
       "  <tbody>\n",
       "    <tr>\n",
       "      <th>0</th>\n",
       "      <td>20801</td>\n",
       "      <td>Cristiano Ronaldo</td>\n",
       "      <td>C. Ronaldo dos Santos Aveiro</td>\n",
       "      <td>Real Madrid CF</td>\n",
       "      <td>https://cdn.sofifa.org/18/teams/243.png</td>\n",
       "      <td>2228</td>\n",
       "      <td>32</td>\n",
       "      <td>Spanish Primera División</td>\n",
       "      <td>1985-02-05</td>\n",
       "      <td>185.0</td>\n",
       "      <td>...</td>\n",
       "      <td>False</td>\n",
       "      <td>False</td>\n",
       "      <td>False</td>\n",
       "      <td>False</td>\n",
       "      <td>False</td>\n",
       "      <td>False</td>\n",
       "      <td>False</td>\n",
       "      <td>False</td>\n",
       "      <td>False</td>\n",
       "      <td>False</td>\n",
       "    </tr>\n",
       "    <tr>\n",
       "      <th>1</th>\n",
       "      <td>158023</td>\n",
       "      <td>L. Messi</td>\n",
       "      <td>Lionel Messi</td>\n",
       "      <td>FC Barcelona</td>\n",
       "      <td>https://cdn.sofifa.org/18/teams/241.png</td>\n",
       "      <td>2158</td>\n",
       "      <td>30</td>\n",
       "      <td>Spanish Primera División</td>\n",
       "      <td>1987-06-24</td>\n",
       "      <td>170.0</td>\n",
       "      <td>...</td>\n",
       "      <td>False</td>\n",
       "      <td>False</td>\n",
       "      <td>False</td>\n",
       "      <td>False</td>\n",
       "      <td>False</td>\n",
       "      <td>False</td>\n",
       "      <td>False</td>\n",
       "      <td>False</td>\n",
       "      <td>False</td>\n",
       "      <td>False</td>\n",
       "    </tr>\n",
       "    <tr>\n",
       "      <th>2</th>\n",
       "      <td>190871</td>\n",
       "      <td>Neymar</td>\n",
       "      <td>Neymar da Silva Santos Jr.</td>\n",
       "      <td>Paris Saint-Germain</td>\n",
       "      <td>https://cdn.sofifa.org/18/teams/73.png</td>\n",
       "      <td>2100</td>\n",
       "      <td>25</td>\n",
       "      <td>French Ligue 1</td>\n",
       "      <td>1992-02-05</td>\n",
       "      <td>175.0</td>\n",
       "      <td>...</td>\n",
       "      <td>False</td>\n",
       "      <td>False</td>\n",
       "      <td>False</td>\n",
       "      <td>False</td>\n",
       "      <td>False</td>\n",
       "      <td>False</td>\n",
       "      <td>False</td>\n",
       "      <td>False</td>\n",
       "      <td>False</td>\n",
       "      <td>False</td>\n",
       "    </tr>\n",
       "    <tr>\n",
       "      <th>3</th>\n",
       "      <td>176580</td>\n",
       "      <td>L. Suárez</td>\n",
       "      <td>Luis Suárez</td>\n",
       "      <td>FC Barcelona</td>\n",
       "      <td>https://cdn.sofifa.org/18/teams/241.png</td>\n",
       "      <td>2291</td>\n",
       "      <td>30</td>\n",
       "      <td>Spanish Primera División</td>\n",
       "      <td>1987-01-24</td>\n",
       "      <td>182.0</td>\n",
       "      <td>...</td>\n",
       "      <td>False</td>\n",
       "      <td>False</td>\n",
       "      <td>False</td>\n",
       "      <td>False</td>\n",
       "      <td>False</td>\n",
       "      <td>False</td>\n",
       "      <td>False</td>\n",
       "      <td>False</td>\n",
       "      <td>False</td>\n",
       "      <td>False</td>\n",
       "    </tr>\n",
       "    <tr>\n",
       "      <th>4</th>\n",
       "      <td>167495</td>\n",
       "      <td>M. Neuer</td>\n",
       "      <td>Manuel Neuer</td>\n",
       "      <td>FC Bayern Munich</td>\n",
       "      <td>https://cdn.sofifa.org/18/teams/21.png</td>\n",
       "      <td>1493</td>\n",
       "      <td>31</td>\n",
       "      <td>German Bundesliga</td>\n",
       "      <td>1986-03-27</td>\n",
       "      <td>193.0</td>\n",
       "      <td>...</td>\n",
       "      <td>False</td>\n",
       "      <td>False</td>\n",
       "      <td>False</td>\n",
       "      <td>False</td>\n",
       "      <td>False</td>\n",
       "      <td>False</td>\n",
       "      <td>False</td>\n",
       "      <td>False</td>\n",
       "      <td>False</td>\n",
       "      <td>True</td>\n",
       "    </tr>\n",
       "  </tbody>\n",
       "</table>\n",
       "<p>5 rows × 185 columns</p>\n",
       "</div>"
      ],
      "text/plain": [
       "       ID               name                     full_name  \\\n",
       "0   20801  Cristiano Ronaldo  C. Ronaldo dos Santos Aveiro   \n",
       "1  158023           L. Messi                  Lionel Messi   \n",
       "2  190871             Neymar    Neymar da Silva Santos Jr.   \n",
       "3  176580          L. Suárez                   Luis Suárez   \n",
       "4  167495           M. Neuer                  Manuel Neuer   \n",
       "\n",
       "                  club                                club_logo  special  age  \\\n",
       "0       Real Madrid CF  https://cdn.sofifa.org/18/teams/243.png     2228   32   \n",
       "1         FC Barcelona  https://cdn.sofifa.org/18/teams/241.png     2158   30   \n",
       "2  Paris Saint-Germain   https://cdn.sofifa.org/18/teams/73.png     2100   25   \n",
       "3         FC Barcelona  https://cdn.sofifa.org/18/teams/241.png     2291   30   \n",
       "4     FC Bayern Munich   https://cdn.sofifa.org/18/teams/21.png     1493   31   \n",
       "\n",
       "                     league  birth_date  height_cm     ...      prefers_cb  \\\n",
       "0  Spanish Primera División  1985-02-05      185.0     ...           False   \n",
       "1  Spanish Primera División  1987-06-24      170.0     ...           False   \n",
       "2            French Ligue 1  1992-02-05      175.0     ...           False   \n",
       "3  Spanish Primera División  1987-01-24      182.0     ...           False   \n",
       "4         German Bundesliga  1986-03-27      193.0     ...           False   \n",
       "\n",
       "  prefers_lb  prefers_lwb prefers_ls prefers_lf prefers_lam  prefers_lcm  \\\n",
       "0      False        False      False      False       False        False   \n",
       "1      False        False      False      False       False        False   \n",
       "2      False        False      False      False       False        False   \n",
       "3      False        False      False      False       False        False   \n",
       "4      False        False      False      False       False        False   \n",
       "\n",
       "   prefers_ldm  prefers_lcb  prefers_gk  \n",
       "0        False        False       False  \n",
       "1        False        False       False  \n",
       "2        False        False       False  \n",
       "3        False        False       False  \n",
       "4        False        False        True  \n",
       "\n",
       "[5 rows x 185 columns]"
      ]
     },
     "execution_count": 49,
     "metadata": {},
     "output_type": "execute_result"
    }
   ],
   "source": [
    "dfw = pd.read_csv('../../data/raw/complete.csv')\n",
    "df = dfw[0:200]\n",
    "print(df.columns)\n",
    "df.head()"
   ]
  },
  {
   "cell_type": "markdown",
   "metadata": {},
   "source": [
    "# Feature Engineering "
   ]
  },
  {
   "cell_type": "code",
   "execution_count": 50,
   "metadata": {},
   "outputs": [
    {
     "name": "stderr",
     "output_type": "stream",
     "text": [
      "/home/bda/anaconda3/lib/python3.6/site-packages/sklearn/utils/validation.py:475: DataConversionWarning: Data with input dtype int64 was converted to float64 by StandardScaler.\n",
      "  warnings.warn(msg, DataConversionWarning)\n",
      "/home/bda/anaconda3/lib/python3.6/site-packages/ipykernel_launcher.py:7: SettingWithCopyWarning: \n",
      "A value is trying to be set on a copy of a slice from a DataFrame.\n",
      "Try using .loc[row_indexer,col_indexer] = value instead\n",
      "\n",
      "See the caveats in the documentation: http://pandas.pydata.org/pandas-docs/stable/indexing.html#indexing-view-versus-copy\n",
      "  import sys\n"
     ]
    }
   ],
   "source": [
    "# select the columns\n",
    "#X_columns = df.columns[2:]\n",
    "X_columns = ['shot_power', 'heading_accuracy', 'finishing', 'ball_control', 'overall']\n",
    "\n",
    "# normalize the data\n",
    "for col in X_columns:\n",
    "    df[col] = StandardScaler().fit_transform(df[col].values.reshape(-1, 1))"
   ]
  },
  {
   "cell_type": "markdown",
   "metadata": {},
   "source": [
    "# Model Training"
   ]
  },
  {
   "cell_type": "code",
   "execution_count": 51,
   "metadata": {},
   "outputs": [
    {
     "data": {
      "image/png": "[encoded data removed]",
      "text/plain": [
       "<matplotlib.figure.Figure at 0x7f2379807ba8>"
      ]
     },
     "metadata": {},
     "output_type": "display_data"
    },
    {
     "name": "stdout",
     "output_type": "stream",
     "text": [
      "{1, 2, 3, 4}\n",
      "Counter({3: 95, 4: 59, 1: 28, 2: 18})\n"
     ]
    }
   ],
   "source": [
    "k = 4\n",
    "color_threshold = 4.\n",
    "d = sch.distance.pdist(df[X_columns])\n",
    "Z= sch.linkage(d, method = 'ward')\n",
    "T = sch.fcluster(Z, k, 'maxclust')\n",
    "P = sch.dendrogram(Z, color_threshold=color_threshold)\n",
    "plt.show()\n",
    "print(set(T))\n",
    "print(collections.Counter(T))\n",
    "df_results = df.copy()\n",
    "df_results['cluster'] = T"
   ]
  },
  {
   "cell_type": "code",
   "execution_count": 52,
   "metadata": {},
   "outputs": [
    {
     "name": "stdout",
     "output_type": "stream",
     "text": [
      "1 28\n",
      "['A. Lopes', 'B. Leno', 'Casillas', 'D. Subašić', 'De Gea', 'Diego López', 'Ederson', 'G. Buffon', 'G. Donnarumma', 'G. Rulli', 'H. Lloris', 'J. Oblak', 'José Reina', 'K. Navas', 'K. Schmeichel', 'M. Neuer', 'M. Perin', 'M. ter Stegen', 'P. Čech', 'R. Bürki', 'R. Fährmann', 'Rui Patrício', 'S. Handanovič', 'S. Ruffier', 'Sergio Asenjo', 'T. Courtois', 'T. Horn', 'Y. Sommer']\n",
      "2 18\n",
      "['A. Griezmann', 'A. Robben', 'A. Sánchez', 'Cristiano Ronaldo', 'E. Hazard', 'G. Bale', 'G. Higuaín', 'K. De Bruyne', 'L. Messi', 'L. Suárez', 'Neymar', 'P. Aubameyang', 'P. Dybala', 'R. Lewandowski', 'S. Agüero', 'Sergio Ramos', 'T. Kroos', 'Z. Ibrahimović']\n",
      "3 95\n",
      "['A. Belotti', 'A. Di María', 'A. Gómez', 'A. Lacazette', 'A. Lallana', 'A. Valencia', 'Adrien Silva', 'Aduriz', 'Ander Herrera', 'B. Dost', 'Bernardo Silva', 'Borja Valero', 'Bruno', 'C. Eriksen', 'C. Immobile', 'Coutinho', 'D. Alli', 'D. De Rossi', 'D. Mertens', 'D. Payet', 'Dani Alves', 'Danilo Pereira', 'David Silva', 'E. Banega', 'E. Džeko', 'E. Forsberg', 'E. Garay', 'F. Ribéry', 'Fabinho', 'Falcao', 'G. Bonaventura', 'H. Mkhitaryan', 'I. Gueye', 'I. Gündoğan', 'I. Perišić', 'I. Rakitić', 'Iago Aspas', 'Iniesta', 'Isco', 'J. Draxler', 'J. Mascherano', 'J. Pastore', 'J. Rodríguez', 'Jonas', 'José Callejón', 'João Mário', 'Juan Mata', 'K. Mbappé', 'K. Strootman', 'K. Walker', 'Koke', 'L. Biglia', 'L. Goretzka', 'L. Insigne', 'L. Modrić', 'L. Perrin', 'L. Piszczek', 'L. Sané', 'M. Dembélé', 'M. Icardi', 'M. Mandžukić', 'M. Reus', 'M. Salah', 'M. Schneiderlin', 'M. Verratti', 'M. Özil', 'Marco Asensio', 'N. Gaitán', 'N. Kanté', 'N. Keïta', 'N. Matić', 'Nani', 'O. Dembélé', 'Oscar', 'Parejo', 'Pedro', 'Quaresma', 'R. Mahrez', 'R. Nainggolan', 'Roberto Firmino', 'S. Giovinco', 'S. Kagawa', 'S. Khedira', 'S. Mané', \"S. N'Zonzi\", 'S. Umtiti', 'Santi Cazorla', 'T. Lemar', 'Thiago', 'V. van Dijk', 'Vitolo', 'W. Sneijder', 'Willian', 'Y. Carrasco', 'Y. Touré']\n",
      "4 59\n",
      "['A. Barzagli', 'A. Laporte', 'A. Vidal', 'Alex Sandro', 'Azpilicueta', 'B. Höwedes', 'B. Matuidi', 'C. Marchisio', 'Carvajal', 'Casemiro', 'Cesc Fàbregas', 'D. Alaba', 'D. Godín', 'David Luiz', 'Diego Costa', 'E. Bailly', 'E. Cavani', 'Filipe Luís', 'G. Cahill', 'G. Chiellini', 'H. Kane', 'J. Boateng', 'J. Giménez', 'J. Matip', 'J. Vertonghen', 'Javi Martínez', 'Jordi Alba', 'K. Benzema', 'K. Glik', 'K. Koulibaly', 'K. Manolas', 'L. Bonucci', 'L. Koscielny', 'M. Benatia', 'M. Hamšík', 'M. Hummels', 'M. Musacchio', 'M. Pjanić', 'Marcelo', 'Marquinhos', 'Miranda', 'Morata', 'N. Otamendi', 'N. Süle', 'O. Toprak', 'P. Pogba', 'Pepe', 'Piqué', 'R. Lukaku', 'R. Varane', 'S. Mustafi', 'S. de Vrij', 'Sergio Busquets', 'Sokratis', 'T. Alderweireld', 'T. Müller', 'Thiago Silva', 'V. Kompany', 'William Carvalho']\n"
     ]
    }
   ],
   "source": [
    "# Analyze the results\n",
    "for cluster in set(T):\n",
    "    print((cluster), (len(df_results[df_results['cluster']==cluster]['name'])))\n",
    "    print(sorted(list(df_results[df_results['cluster']==cluster]['name'])))"
   ]
  },
  {
   "cell_type": "code",
   "execution_count": 53,
   "metadata": {
    "scrolled": true
   },
   "outputs": [
    {
     "data": {
      "text/html": [
       "<div>\n",
       "<style scoped>\n",
       "    .dataframe tbody tr th:only-of-type {\n",
       "        vertical-align: middle;\n",
       "    }\n",
       "\n",
       "    .dataframe tbody tr th {\n",
       "        vertical-align: top;\n",
       "    }\n",
       "\n",
       "    .dataframe thead th {\n",
       "        text-align: right;\n",
       "    }\n",
       "</style>\n",
       "<table border=\"1\" class=\"dataframe\">\n",
       "  <thead>\n",
       "    <tr style=\"text-align: right;\">\n",
       "      <th>cluster</th>\n",
       "      <th>1</th>\n",
       "      <th>2</th>\n",
       "      <th>3</th>\n",
       "      <th>4</th>\n",
       "    </tr>\n",
       "  </thead>\n",
       "  <tbody>\n",
       "    <tr>\n",
       "      <th>ID</th>\n",
       "      <td>163215.75</td>\n",
       "      <td>1.540873e+05</td>\n",
       "      <td>180168.14</td>\n",
       "      <td>182876.68</td>\n",
       "    </tr>\n",
       "    <tr>\n",
       "      <th>special</th>\n",
       "      <td>1297.04</td>\n",
       "      <td>2.131670e+03</td>\n",
       "      <td>2060.33</td>\n",
       "      <td>1975.12</td>\n",
       "    </tr>\n",
       "    <tr>\n",
       "      <th>age</th>\n",
       "      <td>28.50</td>\n",
       "      <td>2.850000e+01</td>\n",
       "      <td>27.63</td>\n",
       "      <td>27.78</td>\n",
       "    </tr>\n",
       "    <tr>\n",
       "      <th>height_cm</th>\n",
       "      <td>190.11</td>\n",
       "      <td>1.798900e+02</td>\n",
       "      <td>178.93</td>\n",
       "      <td>185.97</td>\n",
       "    </tr>\n",
       "    <tr>\n",
       "      <th>weight_kg</th>\n",
       "      <td>86.32</td>\n",
       "      <td>7.639000e+01</td>\n",
       "      <td>73.80</td>\n",
       "      <td>81.08</td>\n",
       "    </tr>\n",
       "    <tr>\n",
       "      <th>real_face</th>\n",
       "      <td>0.54</td>\n",
       "      <td>1.000000e+00</td>\n",
       "      <td>0.73</td>\n",
       "      <td>0.83</td>\n",
       "    </tr>\n",
       "    <tr>\n",
       "      <th>eur_value</th>\n",
       "      <td>27678571.43</td>\n",
       "      <td>7.641667e+07</td>\n",
       "      <td>31826315.79</td>\n",
       "      <td>35381355.93</td>\n",
       "    </tr>\n",
       "    <tr>\n",
       "      <th>eur_wage</th>\n",
       "      <td>82428.57</td>\n",
       "      <td>3.186111e+05</td>\n",
       "      <td>115526.32</td>\n",
       "      <td>150372.88</td>\n",
       "    </tr>\n",
       "    <tr>\n",
       "      <th>eur_release_clause</th>\n",
       "      <td>53092857.14</td>\n",
       "      <td>1.459722e+08</td>\n",
       "      <td>61698876.40</td>\n",
       "      <td>66684482.76</td>\n",
       "    </tr>\n",
       "    <tr>\n",
       "      <th>overall</th>\n",
       "      <td>0.01</td>\n",
       "      <td>2.050000e+00</td>\n",
       "      <td>-0.45</td>\n",
       "      <td>0.10</td>\n",
       "    </tr>\n",
       "    <tr>\n",
       "      <th>potential</th>\n",
       "      <td>87.21</td>\n",
       "      <td>9.067000e+01</td>\n",
       "      <td>85.68</td>\n",
       "      <td>86.75</td>\n",
       "    </tr>\n",
       "    <tr>\n",
       "      <th>pac</th>\n",
       "      <td>84.57</td>\n",
       "      <td>8.311000e+01</td>\n",
       "      <td>75.45</td>\n",
       "      <td>71.54</td>\n",
       "    </tr>\n",
       "    <tr>\n",
       "      <th>sho</th>\n",
       "      <td>83.11</td>\n",
       "      <td>8.494000e+01</td>\n",
       "      <td>74.62</td>\n",
       "      <td>57.76</td>\n",
       "    </tr>\n",
       "    <tr>\n",
       "      <th>pas</th>\n",
       "      <td>75.79</td>\n",
       "      <td>7.989000e+01</td>\n",
       "      <td>77.88</td>\n",
       "      <td>67.97</td>\n",
       "    </tr>\n",
       "    <tr>\n",
       "      <th>dri</th>\n",
       "      <td>85.75</td>\n",
       "      <td>8.672000e+01</td>\n",
       "      <td>82.00</td>\n",
       "      <td>69.66</td>\n",
       "    </tr>\n",
       "    <tr>\n",
       "      <th>def</th>\n",
       "      <td>52.79</td>\n",
       "      <td>3.928000e+01</td>\n",
       "      <td>54.22</td>\n",
       "      <td>77.54</td>\n",
       "    </tr>\n",
       "    <tr>\n",
       "      <th>phy</th>\n",
       "      <td>82.68</td>\n",
       "      <td>7.272000e+01</td>\n",
       "      <td>70.35</td>\n",
       "      <td>79.27</td>\n",
       "    </tr>\n",
       "    <tr>\n",
       "      <th>international_reputation</th>\n",
       "      <td>3.04</td>\n",
       "      <td>4.170000e+00</td>\n",
       "      <td>2.99</td>\n",
       "      <td>3.22</td>\n",
       "    </tr>\n",
       "    <tr>\n",
       "      <th>skill_moves</th>\n",
       "      <td>1.00</td>\n",
       "      <td>3.830000e+00</td>\n",
       "      <td>3.41</td>\n",
       "      <td>2.49</td>\n",
       "    </tr>\n",
       "    <tr>\n",
       "      <th>weak_foot</th>\n",
       "      <td>2.75</td>\n",
       "      <td>3.720000e+00</td>\n",
       "      <td>3.53</td>\n",
       "      <td>3.19</td>\n",
       "    </tr>\n",
       "    <tr>\n",
       "      <th>crossing</th>\n",
       "      <td>14.18</td>\n",
       "      <td>7.761000e+01</td>\n",
       "      <td>73.36</td>\n",
       "      <td>60.88</td>\n",
       "    </tr>\n",
       "    <tr>\n",
       "      <th>finishing</th>\n",
       "      <td>-1.86</td>\n",
       "      <td>1.040000e+00</td>\n",
       "      <td>0.53</td>\n",
       "      <td>-0.29</td>\n",
       "    </tr>\n",
       "    <tr>\n",
       "      <th>heading_accuracy</th>\n",
       "      <td>-2.02</td>\n",
       "      <td>4.700000e-01</td>\n",
       "      <td>0.03</td>\n",
       "      <td>0.77</td>\n",
       "    </tr>\n",
       "    <tr>\n",
       "      <th>short_passing</th>\n",
       "      <td>33.68</td>\n",
       "      <td>8.272000e+01</td>\n",
       "      <td>82.21</td>\n",
       "      <td>76.25</td>\n",
       "    </tr>\n",
       "    <tr>\n",
       "      <th>volleys</th>\n",
       "      <td>13.57</td>\n",
       "      <td>8.383000e+01</td>\n",
       "      <td>71.29</td>\n",
       "      <td>52.95</td>\n",
       "    </tr>\n",
       "    <tr>\n",
       "      <th>dribbling</th>\n",
       "      <td>16.57</td>\n",
       "      <td>8.656000e+01</td>\n",
       "      <td>81.86</td>\n",
       "      <td>67.17</td>\n",
       "    </tr>\n",
       "    <tr>\n",
       "      <th>curve</th>\n",
       "      <td>15.07</td>\n",
       "      <td>8.200000e+01</td>\n",
       "      <td>75.73</td>\n",
       "      <td>58.86</td>\n",
       "    </tr>\n",
       "    <tr>\n",
       "      <th>free_kick_accuracy</th>\n",
       "      <td>15.86</td>\n",
       "      <td>7.911000e+01</td>\n",
       "      <td>68.98</td>\n",
       "      <td>52.69</td>\n",
       "    </tr>\n",
       "    <tr>\n",
       "      <th>long_passing</th>\n",
       "      <td>32.89</td>\n",
       "      <td>7.389000e+01</td>\n",
       "      <td>75.28</td>\n",
       "      <td>71.10</td>\n",
       "    </tr>\n",
       "    <tr>\n",
       "      <th>ball_control</th>\n",
       "      <td>-2.29</td>\n",
       "      <td>7.300000e-01</td>\n",
       "      <td>0.51</td>\n",
       "      <td>0.05</td>\n",
       "    </tr>\n",
       "    <tr>\n",
       "      <th>...</th>\n",
       "      <td>...</td>\n",
       "      <td>...</td>\n",
       "      <td>...</td>\n",
       "      <td>...</td>\n",
       "    </tr>\n",
       "    <tr>\n",
       "      <th>acrobat_speciality</th>\n",
       "      <td>0.00</td>\n",
       "      <td>5.600000e-01</td>\n",
       "      <td>0.29</td>\n",
       "      <td>0.02</td>\n",
       "    </tr>\n",
       "    <tr>\n",
       "      <th>strength_speciality</th>\n",
       "      <td>0.00</td>\n",
       "      <td>6.000000e-02</td>\n",
       "      <td>0.09</td>\n",
       "      <td>0.24</td>\n",
       "    </tr>\n",
       "    <tr>\n",
       "      <th>clinical_finisher_speciality</th>\n",
       "      <td>0.00</td>\n",
       "      <td>5.000000e-01</td>\n",
       "      <td>0.05</td>\n",
       "      <td>0.02</td>\n",
       "    </tr>\n",
       "    <tr>\n",
       "      <th>prefers_rs</th>\n",
       "      <td>0.00</td>\n",
       "      <td>0.000000e+00</td>\n",
       "      <td>0.00</td>\n",
       "      <td>0.00</td>\n",
       "    </tr>\n",
       "    <tr>\n",
       "      <th>prefers_rw</th>\n",
       "      <td>0.00</td>\n",
       "      <td>2.200000e-01</td>\n",
       "      <td>0.15</td>\n",
       "      <td>0.02</td>\n",
       "    </tr>\n",
       "    <tr>\n",
       "      <th>prefers_rf</th>\n",
       "      <td>0.00</td>\n",
       "      <td>0.000000e+00</td>\n",
       "      <td>0.00</td>\n",
       "      <td>0.00</td>\n",
       "    </tr>\n",
       "    <tr>\n",
       "      <th>prefers_ram</th>\n",
       "      <td>0.00</td>\n",
       "      <td>0.000000e+00</td>\n",
       "      <td>0.00</td>\n",
       "      <td>0.00</td>\n",
       "    </tr>\n",
       "    <tr>\n",
       "      <th>prefers_rcm</th>\n",
       "      <td>0.00</td>\n",
       "      <td>0.000000e+00</td>\n",
       "      <td>0.00</td>\n",
       "      <td>0.00</td>\n",
       "    </tr>\n",
       "    <tr>\n",
       "      <th>prefers_rm</th>\n",
       "      <td>0.00</td>\n",
       "      <td>1.700000e-01</td>\n",
       "      <td>0.13</td>\n",
       "      <td>0.00</td>\n",
       "    </tr>\n",
       "    <tr>\n",
       "      <th>prefers_rdm</th>\n",
       "      <td>0.00</td>\n",
       "      <td>0.000000e+00</td>\n",
       "      <td>0.00</td>\n",
       "      <td>0.00</td>\n",
       "    </tr>\n",
       "    <tr>\n",
       "      <th>prefers_rcb</th>\n",
       "      <td>0.00</td>\n",
       "      <td>0.000000e+00</td>\n",
       "      <td>0.00</td>\n",
       "      <td>0.00</td>\n",
       "    </tr>\n",
       "    <tr>\n",
       "      <th>prefers_rb</th>\n",
       "      <td>0.00</td>\n",
       "      <td>0.000000e+00</td>\n",
       "      <td>0.04</td>\n",
       "      <td>0.03</td>\n",
       "    </tr>\n",
       "    <tr>\n",
       "      <th>prefers_rwb</th>\n",
       "      <td>0.00</td>\n",
       "      <td>0.000000e+00</td>\n",
       "      <td>0.01</td>\n",
       "      <td>0.00</td>\n",
       "    </tr>\n",
       "    <tr>\n",
       "      <th>prefers_st</th>\n",
       "      <td>0.00</td>\n",
       "      <td>6.100000e-01</td>\n",
       "      <td>0.19</td>\n",
       "      <td>0.12</td>\n",
       "    </tr>\n",
       "    <tr>\n",
       "      <th>prefers_lw</th>\n",
       "      <td>0.00</td>\n",
       "      <td>2.800000e-01</td>\n",
       "      <td>0.18</td>\n",
       "      <td>0.00</td>\n",
       "    </tr>\n",
       "    <tr>\n",
       "      <th>prefers_cf</th>\n",
       "      <td>0.00</td>\n",
       "      <td>6.000000e-02</td>\n",
       "      <td>0.08</td>\n",
       "      <td>0.02</td>\n",
       "    </tr>\n",
       "    <tr>\n",
       "      <th>prefers_cam</th>\n",
       "      <td>0.00</td>\n",
       "      <td>1.100000e-01</td>\n",
       "      <td>0.29</td>\n",
       "      <td>0.03</td>\n",
       "    </tr>\n",
       "    <tr>\n",
       "      <th>prefers_cm</th>\n",
       "      <td>0.00</td>\n",
       "      <td>1.100000e-01</td>\n",
       "      <td>0.37</td>\n",
       "      <td>0.17</td>\n",
       "    </tr>\n",
       "    <tr>\n",
       "      <th>prefers_lm</th>\n",
       "      <td>0.00</td>\n",
       "      <td>6.000000e-02</td>\n",
       "      <td>0.21</td>\n",
       "      <td>0.02</td>\n",
       "    </tr>\n",
       "    <tr>\n",
       "      <th>prefers_cdm</th>\n",
       "      <td>0.00</td>\n",
       "      <td>6.000000e-02</td>\n",
       "      <td>0.26</td>\n",
       "      <td>0.17</td>\n",
       "    </tr>\n",
       "    <tr>\n",
       "      <th>prefers_cb</th>\n",
       "      <td>0.00</td>\n",
       "      <td>6.000000e-02</td>\n",
       "      <td>0.07</td>\n",
       "      <td>0.63</td>\n",
       "    </tr>\n",
       "    <tr>\n",
       "      <th>prefers_lb</th>\n",
       "      <td>0.00</td>\n",
       "      <td>0.000000e+00</td>\n",
       "      <td>0.00</td>\n",
       "      <td>0.10</td>\n",
       "    </tr>\n",
       "    <tr>\n",
       "      <th>prefers_lwb</th>\n",
       "      <td>0.00</td>\n",
       "      <td>0.000000e+00</td>\n",
       "      <td>0.00</td>\n",
       "      <td>0.00</td>\n",
       "    </tr>\n",
       "    <tr>\n",
       "      <th>prefers_ls</th>\n",
       "      <td>0.00</td>\n",
       "      <td>0.000000e+00</td>\n",
       "      <td>0.00</td>\n",
       "      <td>0.00</td>\n",
       "    </tr>\n",
       "    <tr>\n",
       "      <th>prefers_lf</th>\n",
       "      <td>0.00</td>\n",
       "      <td>0.000000e+00</td>\n",
       "      <td>0.00</td>\n",
       "      <td>0.00</td>\n",
       "    </tr>\n",
       "    <tr>\n",
       "      <th>prefers_lam</th>\n",
       "      <td>0.00</td>\n",
       "      <td>0.000000e+00</td>\n",
       "      <td>0.00</td>\n",
       "      <td>0.00</td>\n",
       "    </tr>\n",
       "    <tr>\n",
       "      <th>prefers_lcm</th>\n",
       "      <td>0.00</td>\n",
       "      <td>0.000000e+00</td>\n",
       "      <td>0.00</td>\n",
       "      <td>0.00</td>\n",
       "    </tr>\n",
       "    <tr>\n",
       "      <th>prefers_ldm</th>\n",
       "      <td>0.00</td>\n",
       "      <td>0.000000e+00</td>\n",
       "      <td>0.00</td>\n",
       "      <td>0.00</td>\n",
       "    </tr>\n",
       "    <tr>\n",
       "      <th>prefers_lcb</th>\n",
       "      <td>0.00</td>\n",
       "      <td>0.000000e+00</td>\n",
       "      <td>0.00</td>\n",
       "      <td>0.00</td>\n",
       "    </tr>\n",
       "    <tr>\n",
       "      <th>prefers_gk</th>\n",
       "      <td>1.00</td>\n",
       "      <td>0.000000e+00</td>\n",
       "      <td>0.00</td>\n",
       "      <td>0.00</td>\n",
       "    </tr>\n",
       "  </tbody>\n",
       "</table>\n",
       "<p>172 rows × 4 columns</p>\n",
       "</div>"
      ],
      "text/plain": [
       "cluster                                 1             2            3  \\\n",
       "ID                              163215.75  1.540873e+05    180168.14   \n",
       "special                           1297.04  2.131670e+03      2060.33   \n",
       "age                                 28.50  2.850000e+01        27.63   \n",
       "height_cm                          190.11  1.798900e+02       178.93   \n",
       "weight_kg                           86.32  7.639000e+01        73.80   \n",
       "real_face                            0.54  1.000000e+00         0.73   \n",
       "eur_value                     27678571.43  7.641667e+07  31826315.79   \n",
       "eur_wage                         82428.57  3.186111e+05    115526.32   \n",
       "eur_release_clause            53092857.14  1.459722e+08  61698876.40   \n",
       "overall                              0.01  2.050000e+00        -0.45   \n",
       "potential                           87.21  9.067000e+01        85.68   \n",
       "pac                                 84.57  8.311000e+01        75.45   \n",
       "sho                                 83.11  8.494000e+01        74.62   \n",
       "pas                                 75.79  7.989000e+01        77.88   \n",
       "dri                                 85.75  8.672000e+01        82.00   \n",
       "def                                 52.79  3.928000e+01        54.22   \n",
       "phy                                 82.68  7.272000e+01        70.35   \n",
       "international_reputation             3.04  4.170000e+00         2.99   \n",
       "skill_moves                          1.00  3.830000e+00         3.41   \n",
       "weak_foot                            2.75  3.720000e+00         3.53   \n",
       "crossing                            14.18  7.761000e+01        73.36   \n",
       "finishing                           -1.86  1.040000e+00         0.53   \n",
       "heading_accuracy                    -2.02  4.700000e-01         0.03   \n",
       "short_passing                       33.68  8.272000e+01        82.21   \n",
       "volleys                             13.57  8.383000e+01        71.29   \n",
       "dribbling                           16.57  8.656000e+01        81.86   \n",
       "curve                               15.07  8.200000e+01        75.73   \n",
       "free_kick_accuracy                  15.86  7.911000e+01        68.98   \n",
       "long_passing                        32.89  7.389000e+01        75.28   \n",
       "ball_control                        -2.29  7.300000e-01         0.51   \n",
       "...                                   ...           ...          ...   \n",
       "acrobat_speciality                   0.00  5.600000e-01         0.29   \n",
       "strength_speciality                  0.00  6.000000e-02         0.09   \n",
       "clinical_finisher_speciality         0.00  5.000000e-01         0.05   \n",
       "prefers_rs                           0.00  0.000000e+00         0.00   \n",
       "prefers_rw                           0.00  2.200000e-01         0.15   \n",
       "prefers_rf                           0.00  0.000000e+00         0.00   \n",
       "prefers_ram                          0.00  0.000000e+00         0.00   \n",
       "prefers_rcm                          0.00  0.000000e+00         0.00   \n",
       "prefers_rm                           0.00  1.700000e-01         0.13   \n",
       "prefers_rdm                          0.00  0.000000e+00         0.00   \n",
       "prefers_rcb                          0.00  0.000000e+00         0.00   \n",
       "prefers_rb                           0.00  0.000000e+00         0.04   \n",
       "prefers_rwb                          0.00  0.000000e+00         0.01   \n",
       "prefers_st                           0.00  6.100000e-01         0.19   \n",
       "prefers_lw                           0.00  2.800000e-01         0.18   \n",
       "prefers_cf                           0.00  6.000000e-02         0.08   \n",
       "prefers_cam                          0.00  1.100000e-01         0.29   \n",
       "prefers_cm                           0.00  1.100000e-01         0.37   \n",
       "prefers_lm                           0.00  6.000000e-02         0.21   \n",
       "prefers_cdm                          0.00  6.000000e-02         0.26   \n",
       "prefers_cb                           0.00  6.000000e-02         0.07   \n",
       "prefers_lb                           0.00  0.000000e+00         0.00   \n",
       "prefers_lwb                          0.00  0.000000e+00         0.00   \n",
       "prefers_ls                           0.00  0.000000e+00         0.00   \n",
       "prefers_lf                           0.00  0.000000e+00         0.00   \n",
       "prefers_lam                          0.00  0.000000e+00         0.00   \n",
       "prefers_lcm                          0.00  0.000000e+00         0.00   \n",
       "prefers_ldm                          0.00  0.000000e+00         0.00   \n",
       "prefers_lcb                          0.00  0.000000e+00         0.00   \n",
       "prefers_gk                           1.00  0.000000e+00         0.00   \n",
       "\n",
       "cluster                                 4  \n",
       "ID                              182876.68  \n",
       "special                           1975.12  \n",
       "age                                 27.78  \n",
       "height_cm                          185.97  \n",
       "weight_kg                           81.08  \n",
       "real_face                            0.83  \n",
       "eur_value                     35381355.93  \n",
       "eur_wage                        150372.88  \n",
       "eur_release_clause            66684482.76  \n",
       "overall                              0.10  \n",
       "potential                           86.75  \n",
       "pac                                 71.54  \n",
       "sho                                 57.76  \n",
       "pas                                 67.97  \n",
       "dri                                 69.66  \n",
       "def                                 77.54  \n",
       "phy                                 79.27  \n",
       "international_reputation             3.22  \n",
       "skill_moves                          2.49  \n",
       "weak_foot                            3.19  \n",
       "crossing                            60.88  \n",
       "finishing                           -0.29  \n",
       "heading_accuracy                     0.77  \n",
       "short_passing                       76.25  \n",
       "volleys                             52.95  \n",
       "dribbling                           67.17  \n",
       "curve                               58.86  \n",
       "free_kick_accuracy                  52.69  \n",
       "long_passing                        71.10  \n",
       "ball_control                         0.05  \n",
       "...                                   ...  \n",
       "acrobat_speciality                   0.02  \n",
       "strength_speciality                  0.24  \n",
       "clinical_finisher_speciality         0.02  \n",
       "prefers_rs                           0.00  \n",
       "prefers_rw                           0.02  \n",
       "prefers_rf                           0.00  \n",
       "prefers_ram                          0.00  \n",
       "prefers_rcm                          0.00  \n",
       "prefers_rm                           0.00  \n",
       "prefers_rdm                          0.00  \n",
       "prefers_rcb                          0.00  \n",
       "prefers_rb                           0.03  \n",
       "prefers_rwb                          0.00  \n",
       "prefers_st                           0.12  \n",
       "prefers_lw                           0.00  \n",
       "prefers_cf                           0.02  \n",
       "prefers_cam                          0.03  \n",
       "prefers_cm                           0.17  \n",
       "prefers_lm                           0.02  \n",
       "prefers_cdm                          0.17  \n",
       "prefers_cb                           0.63  \n",
       "prefers_lb                           0.10  \n",
       "prefers_lwb                          0.00  \n",
       "prefers_ls                           0.00  \n",
       "prefers_lf                           0.00  \n",
       "prefers_lam                          0.00  \n",
       "prefers_lcm                          0.00  \n",
       "prefers_ldm                          0.00  \n",
       "prefers_lcb                          0.00  \n",
       "prefers_gk                           0.00  \n",
       "\n",
       "[172 rows x 4 columns]"
      ]
     },
     "execution_count": 53,
     "metadata": {},
     "output_type": "execute_result"
    }
   ],
   "source": [
    "# Analyze the centroids\n",
    "df_results.groupby('cluster').mean().round(2).T"
   ]
  },
  {
   "cell_type": "code",
   "execution_count": 54,
   "metadata": {
    "scrolled": false
   },
   "outputs": [
    {
     "name": "stdout",
     "output_type": "stream",
     "text": [
      "shot_power\n"
     ]
    },
    {
     "data": {
      "image/png": "[encoded data removed]",
      "text/plain": [
       "<matplotlib.figure.Figure at 0x7f2379918080>"
      ]
     },
     "metadata": {},
     "output_type": "display_data"
    },
    {
     "name": "stdout",
     "output_type": "stream",
     "text": [
      "heading_accuracy\n"
     ]
    },
    {
     "data": {
      "image/png": "[encoded data removed]",
      "text/plain": [
       "<matplotlib.figure.Figure at 0x7f2372ec3b00>"
      ]
     },
     "metadata": {},
     "output_type": "display_data"
    },
    {
     "name": "stdout",
     "output_type": "stream",
     "text": [
      "finishing\n"
     ]
    },
    {
     "data": {
      "image/png": "[encoded data removed]",
      "text/plain": [
       "<matplotlib.figure.Figure at 0x7f237426f3c8>"
      ]
     },
     "metadata": {},
     "output_type": "display_data"
    },
    {
     "name": "stdout",
     "output_type": "stream",
     "text": [
      "ball_control\n"
     ]
    },
    {
     "data": {
      "image/png": "[encoded data removed]",
      "text/plain": [
       "<matplotlib.figure.Figure at 0x7f2373a35a90>"
      ]
     },
     "metadata": {},
     "output_type": "display_data"
    },
    {
     "name": "stdout",
     "output_type": "stream",
     "text": [
      "overall\n"
     ]
    },
    {
     "data": {
      "image/png": "[encoded data removed]",
      "text/plain": [
       "<matplotlib.figure.Figure at 0x7f2373467080>"
      ]
     },
     "metadata": {},
     "output_type": "display_data"
    }
   ],
   "source": [
    "# Analyze the results\n",
    "for col in X_columns:\n",
    "    print(col)\n",
    "    for cluster in set(T):\n",
    "        plt.hist(df_results[df_results['cluster']==cluster][col], label=str(cluster), alpha=0.3, bins=20)\n",
    "    plt.legend()\n",
    "    plt.show()"
   ]
  },
  {
   "cell_type": "code",
   "execution_count": 55,
   "metadata": {},
   "outputs": [
    {
     "name": "stdout",
     "output_type": "stream",
     "text": [
      "4\n",
      "shot_power\n"
     ]
    },
    {
     "data": {
      "image/png": "[encoded data removed]",
      "text/plain": [
       "<matplotlib.figure.Figure at 0x7f2379906cf8>"
      ]
     },
     "metadata": {},
     "output_type": "display_data"
    },
    {
     "name": "stdout",
     "output_type": "stream",
     "text": [
      "heading_accuracy\n"
     ]
    },
    {
     "data": {
      "image/png": "[encoded data removed]",
      "text/plain": [
       "<matplotlib.figure.Figure at 0x7f2374046550>"
      ]
     },
     "metadata": {},
     "output_type": "display_data"
    },
    {
     "name": "stdout",
     "output_type": "stream",
     "text": [
      "finishing\n"
     ]
    },
    {
     "data": {
      "image/png": "[encoded data removed]",
      "text/plain": [
       "<matplotlib.figure.Figure at 0x7f237384dd68>"
      ]
     },
     "metadata": {},
     "output_type": "display_data"
    },
    {
     "name": "stdout",
     "output_type": "stream",
     "text": [
      "ball_control\n"
     ]
    },
    {
     "data": {
      "image/png": "[encoded data removed]",
      "text/plain": [
       "<matplotlib.figure.Figure at 0x7f2373a84ef0>"
      ]
     },
     "metadata": {},
     "output_type": "display_data"
    },
    {
     "name": "stdout",
     "output_type": "stream",
     "text": [
      "overall\n"
     ]
    },
    {
     "data": {
      "image/png": "[encoded data removed]",
      "text/plain": [
       "<matplotlib.figure.Figure at 0x7f23731e2f98>"
      ]
     },
     "metadata": {},
     "output_type": "display_data"
    }
   ],
   "source": [
    "# Analyze the results\n",
    "n_clusters = len(set(T))\n",
    "print(n_clusters)\n",
    "for col in X_columns:\n",
    "    print(col)\n",
    "    i = 1\n",
    "    plt.figure(figsize=(16,3))\n",
    "    for cluster in sorted(set(T)):\n",
    "        plt.subplot(1, n_clusters, i)\n",
    "        plt.xlim([0,df_results[col].max()])\n",
    "        plt.hist(df_results[df_results['cluster']==cluster][col], label=str(cluster), alpha=0.3, bins=20)\n",
    "        i += 1\n",
    "    plt.show()"
   ]
  },
  {
   "cell_type": "code",
   "execution_count": 56,
   "metadata": {
    "scrolled": false
   },
   "outputs": [
    {
     "name": "stdout",
     "output_type": "stream",
     "text": [
      "shot_power\n"
     ]
    },
    {
     "data": {
      "image/png": "[encoded data removed]",
      "text/plain": [
       "<matplotlib.figure.Figure at 0x7f2378ae56d8>"
      ]
     },
     "metadata": {},
     "output_type": "display_data"
    },
    {
     "name": "stdout",
     "output_type": "stream",
     "text": [
      "heading_accuracy\n"
     ]
    },
    {
     "data": {
      "image/png": "[encoded data removed]",
      "text/plain": [
       "<matplotlib.figure.Figure at 0x7f23742ffa58>"
      ]
     },
     "metadata": {},
     "output_type": "display_data"
    },
    {
     "name": "stdout",
     "output_type": "stream",
     "text": [
      "finishing\n"
     ]
    },
    {
     "data": {
      "image/png": "[encoded data removed]",
      "text/plain": [
       "<matplotlib.figure.Figure at 0x7f2372f769b0>"
      ]
     },
     "metadata": {},
     "output_type": "display_data"
    },
    {
     "name": "stdout",
     "output_type": "stream",
     "text": [
      "ball_control\n"
     ]
    },
    {
     "data": {
      "image/png": "[encoded data removed]",
      "text/plain": [
       "<matplotlib.figure.Figure at 0x7f23797d2ac8>"
      ]
     },
     "metadata": {},
     "output_type": "display_data"
    },
    {
     "name": "stdout",
     "output_type": "stream",
     "text": [
      "overall\n"
     ]
    },
    {
     "data": {
      "image/png": "[encoded data removed]",
      "text/plain": [
       "<matplotlib.figure.Figure at 0x7f2374346940>"
      ]
     },
     "metadata": {},
     "output_type": "display_data"
    }
   ],
   "source": [
    "# Analyze the correlation with Happiness Score\n",
    "for c in ['shot_power', 'heading_accuracy', 'finishing', 'ball_control', 'overall']:\n",
    "    print(c)\n",
    "    plt.plot(df_results['overall'], df_results[c], 'o')\n",
    "    plt.show()"
   ]
  },
  {
   "cell_type": "markdown",
   "metadata": {},
   "source": [
    "# Model Evaluation"
   ]
  },
  {
   "cell_type": "code",
   "execution_count": 45,
   "metadata": {},
   "outputs": [
    {
     "name": "stdout",
     "output_type": "stream",
     "text": [
      "Intra-Cluster Distances 279.8572507574878\n",
      "Inter-Cluster Distances 137.11221554820565\n"
     ]
    }
   ],
   "source": [
    "# Intra-Cluster\n",
    "centroids = []\n",
    "for cluster in sorted(set(T)):\n",
    "    centroids.append(df_results[df_results['cluster']==cluster][X_columns].mean().values)\n",
    "print('Intra-Cluster Distances', sum(sum(euclidean_distances(centroids, centroids))))\n",
    "\n",
    "# Inter-Cluster\n",
    "distances = 0\n",
    "for cluster in sorted(set(T)):\n",
    "    centroid = df_results[df_results['cluster']==cluster][X_columns].mean().values\n",
    "    distances += (sum(euclidean_distances(df_results[df_results['cluster']==cluster][X_columns].values, centroid.reshape(1, -1))))[0]\n",
    "print('Inter-Cluster Distances', distances)"
   ]
  },
  {
   "cell_type": "code",
   "execution_count": null,
   "metadata": {
    "collapsed": true
   },
   "outputs": [],
   "source": []
  }
 ],
 "metadata": {
  "anaconda-cloud": {},
  "kernelspec": {
   "display_name": "Python 3",
   "language": "python",
   "name": "python3"
  },
  "language_info": {
   "codemirror_mode": {
    "name": "ipython",
    "version": 3
   },
   "file_extension": ".py",
   "mimetype": "text/x-python",
   "name": "python",
   "nbconvert_exporter": "python",
   "pygments_lexer": "ipython3",
   "version": "3.6.4"
  }
 },
 "nbformat": 4,
 "nbformat_minor": 1
}
